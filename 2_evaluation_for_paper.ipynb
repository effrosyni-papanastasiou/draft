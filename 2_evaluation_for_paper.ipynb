{
 "cells": [
  {
   "cell_type": "code",
   "execution_count": 1,
   "metadata": {},
   "outputs": [],
   "source": [
    "import pickle\n",
    "import pandas as pd\n",
    "import numpy as np\n",
    "from scipy import stats\n",
    "from collections import defaultdict\n",
    "import random\n",
    "import copy\n",
    "import math\n",
    "from scipy.optimize import linprog\n",
    "import time\n",
    "from collections import Counter\n",
    "import matplotlib.pyplot as plt\n",
    "import matplotlib as mpl\n",
    "mpl.rcParams.update({'font.size': 14})\n",
    "# mpl.rc('text', usetex = False)\n",
    "mpl.rc('font', family = 'serif')\n",
    "import networkx as nx\n"
   ]
  },
  {
   "cell_type": "markdown",
   "metadata": {},
   "source": [
    "# 1. Load input"
   ]
  },
  {
   "cell_type": "code",
   "execution_count": 2,
   "metadata": {},
   "outputs": [],
   "source": [
    "lines = 500000\n",
    "random.seed(10)\n",
    "dataset = 'russian'"
   ]
  },
  {
   "cell_type": "markdown",
   "metadata": {},
   "source": [
    "Load episode set $E$ with the users that retweeted each original tweet in the trace. \n",
    "\n",
    "Each episode $E_{s}$ includes the users that retweeted s, ordered chronologically, as they appear in the trace. The first user in each episode is the user that originally tweeted the tweet, and is denoted by $r_{s}$. Subsequent users in $E_{s}$ are users that retweeted s, either directly from user $r_{s}$ or from another user that appears in Es before them."
   ]
  },
  {
   "cell_type": "code",
   "execution_count": 3,
   "metadata": {},
   "outputs": [],
   "source": [
    "D = pickle.load(open(\"./Extracted/\"+dataset+\"/D\"+ str(lines) + \".p\", \"rb\"))"
   ]
  },
  {
   "cell_type": "code",
   "execution_count": 4,
   "metadata": {},
   "outputs": [],
   "source": [
    "E = pickle.load(open(\"./Extracted/\"+dataset+\"/E\"+ str(lines) + \".p\", \"rb\"))"
   ]
  },
  {
   "cell_type": "code",
   "execution_count": 5,
   "metadata": {},
   "outputs": [],
   "source": [
    "for tweet in E:\n",
    "    E[tweet] = list(dict.fromkeys(E[tweet]))"
   ]
  },
  {
   "cell_type": "markdown",
   "metadata": {},
   "source": [
    "Load the set of original tweets denoted by $S$. \n",
    "\n",
    "The set of original tweets is denoted by $S$, where $S$ = S is the total number of original tweets"
   ]
  },
  {
   "cell_type": "code",
   "execution_count": 6,
   "metadata": {},
   "outputs": [],
   "source": [
    "S = pickle.load(open(\"./Extracted/\"+dataset+\"/S\"+ str(lines) + \".p\", \"rb\"))"
   ]
  },
  {
   "cell_type": "markdown",
   "metadata": {},
   "source": [
    "Load $U$ set xith unique users"
   ]
  },
  {
   "cell_type": "code",
   "execution_count": 8,
   "metadata": {},
   "outputs": [],
   "source": [
    "# U = pickle.load(open(\"./Extracted/U\"+ str(lines) + \".p\", \"rb\"))\n",
    "# U = list(U)"
   ]
  },
  {
   "cell_type": "markdown",
   "metadata": {},
   "source": [
    "Load $M_{ij}$ variables that count number of episodes where the ordered pair (i,j) appears"
   ]
  },
  {
   "cell_type": "code",
   "execution_count": 9,
   "metadata": {},
   "outputs": [],
   "source": [
    "M = pickle.load(open(\"./Extracted/\"+dataset+\"/M_d\"+ str(lines) + \".p\", \"rb\"))"
   ]
  },
  {
   "cell_type": "markdown",
   "metadata": {},
   "source": [
    "Load $Q_{ij}$ results for the ordered pair (i,j) derived from the consrained algorithm"
   ]
  },
  {
   "cell_type": "code",
   "execution_count": 11,
   "metadata": {},
   "outputs": [],
   "source": [
    "Q = pickle.load(open(\"./Extracted/\"+dataset+\"/results/Q_constrained_\"+ str(lines) + \".p\", \"rb\"))"
   ]
  },
  {
   "cell_type": "markdown",
   "metadata": {},
   "source": [
    "Load $s_{ij}$ derived from the consrained algorithm"
   ]
  },
  {
   "cell_type": "code",
   "execution_count": 12,
   "metadata": {},
   "outputs": [],
   "source": [
    "s = pickle.load(open(\"./Extracted/\"+dataset+\"/results/s_constrained_\"+ str(lines) + \".p\", \"rb\"))"
   ]
  },
  {
   "cell_type": "markdown",
   "metadata": {},
   "source": [
    "Load $k_{ij}$ derived from Saito"
   ]
  },
  {
   "cell_type": "code",
   "execution_count": 14,
   "metadata": {},
   "outputs": [],
   "source": [
    "# k = pickle.load(open(\"./Extracted/\"+dataset+\"/results/k_saito_\"+ str(lines) + \".p\", \"rb\"))"
   ]
  },
  {
   "cell_type": "markdown",
   "metadata": {},
   "source": [
    "Load $Q_{ij}$ derived from Newman's"
   ]
  },
  {
   "cell_type": "code",
   "execution_count": 15,
   "metadata": {},
   "outputs": [],
   "source": [
    "# Q_newman = pickle.load(open(\"./Extracted/\"+dataset+\"/Q_newman_\"+ str(lines) + \".p\", \"rb\"))"
   ]
  },
  {
   "cell_type": "markdown",
   "metadata": {},
   "source": [
    "## Necessary functions"
   ]
  },
  {
   "cell_type": "code",
   "execution_count": 13,
   "metadata": {},
   "outputs": [],
   "source": [
    "def flatten(obj):\n",
    "    if type(obj) == list:\n",
    "        return [l for L in obj for l in L]\n",
    "    if type(obj) == dict:\n",
    "        return [l for i in obj for l in obj[i].values()]\n",
    "    if type(obj) == defaultdict:\n",
    "        return [l for i in obj for l in obj[i].values()]"
   ]
  },
  {
   "cell_type": "code",
   "execution_count": 14,
   "metadata": {},
   "outputs": [],
   "source": [
    "def create_serpent_graph(U,D):\n",
    "    G = nx.DiGraph()\n",
    "    G.add_nodes_from(U)\n",
    "    for tweet in D:\n",
    "        for time in D[tweet]:\n",
    "            ind = list(D[tweet].keys()).index(time)\n",
    "            if ind+1==len(D[tweet]): break\n",
    "            next_time = list(D[tweet].keys())[ind+1]\n",
    "            for u1 in D[tweet][time]:\n",
    "                for u2 in D[tweet][next_time]:\n",
    "                    G.add_edge(u1,u2)\n",
    "    return G"
   ]
  },
  {
   "cell_type": "code",
   "execution_count": 15,
   "metadata": {},
   "outputs": [],
   "source": [
    "def create_saito_graph(U,k):\n",
    "    G = nx.DiGraph()\n",
    "    G.add_nodes_from(U)\n",
    "\n",
    "    for i in k:\n",
    "        for j in k[i]:\n",
    "            if k[i][j] > 0.5:\n",
    "                G.add_edge(i,j)\n",
    "    return G"
   ]
  },
  {
   "cell_type": "code",
   "execution_count": 30,
   "metadata": {},
   "outputs": [],
   "source": [
    "def create_star_graph(U,E):\n",
    "    G = nx.DiGraph()\n",
    "    G.add_nodes_from(U)\n",
    "    for s in E:\n",
    "        for j in E[s][1:]:\n",
    "            G.add_edge(E[s][0],j)\n",
    "    return G"
   ]
  },
  {
   "cell_type": "code",
   "execution_count": 17,
   "metadata": {},
   "outputs": [],
   "source": [
    "def create_our_graph(U,Q):\n",
    "    G = nx.DiGraph()\n",
    "    G.add_nodes_from(U)\n",
    "    for i in Q:\n",
    "        for j in Q[i]:\n",
    "            if Q[i][j] > 0.5:\n",
    "                G.add_edge(i,j)\n",
    "    return G"
   ]
  },
  {
   "cell_type": "code",
   "execution_count": 18,
   "metadata": {},
   "outputs": [],
   "source": [
    "def create_newman_graph(U,Q):\n",
    "    G = nx.DiGraph()\n",
    "    G.add_nodes_from(U)\n",
    "\n",
    "    for i in Q:\n",
    "        for j in Q[i]:\n",
    "            if Q[i][j] > 0.5:\n",
    "                G.add_edge(i,j)\n",
    "    return G"
   ]
  },
  {
   "cell_type": "code",
   "execution_count": 19,
   "metadata": {},
   "outputs": [],
   "source": [
    "def wedge_metric(graph):\n",
    "    numerator = 0\n",
    "    denominator = 0\n",
    "\n",
    "    for i in graph.nodes:\n",
    "        leaders = set(graph.predecessors(i))\n",
    "        followers = set(graph.successors(i))\n",
    "        friends = leaders.intersection(followers)\n",
    "        if len(leaders) + len(followers) < 2:\n",
    "            continue\n",
    "        if leaders==followers and len(leaders)==1:\n",
    "            continue\n",
    "        L = len(leaders)\n",
    "        F = len(followers)\n",
    "        LintF = len(friends)\n",
    "        numerator += L*F - LintF\n",
    "        denominator += (L+F)**2 - L - F - 2*LintF\n",
    "\n",
    "    if denominator != 0:\n",
    "        result = 2 * numerator / denominator\n",
    "    else:\n",
    "        result = 0\n",
    "        \n",
    "    return result"
   ]
  },
  {
   "cell_type": "code",
   "execution_count": 20,
   "metadata": {},
   "outputs": [],
   "source": [
    "def f_check(E, Q):\n",
    "    '''\n",
    "    Function that checks feasibility of results\n",
    "\n",
    "    '''\n",
    "    retweets = 0 # minimum existing edges\n",
    "    infeasible_episodes = 0 \n",
    "    total_feasible_edges = []\n",
    "    total_inf = 0 \n",
    "    for s in E:\n",
    "        feasible_edges = 0 \n",
    "        for j in E[s]:\n",
    "            indx = E[s].index(j)\n",
    "            if indx!=0:\n",
    "                u_before = E[s][:indx]\n",
    "                for i in u_before: \n",
    "                    if i in Q and j in Q[i] and Q[i][j] > 0.5:\n",
    "                        feasible_edges +=1\n",
    "                        total_feasible_edges.append((i,j))\n",
    "\n",
    "        infeasible = (len(E[s]) - 1) - feasible_edges\n",
    "        if infeasible > 0:\n",
    "#             print('Tweet', s, 'retweeted by', len(E[s])-1, 'users in total. But, we only found:', feasible_edges, 'feasible edges, so the infeasible ones are:', infeasible)            \n",
    "            total_inf+=infeasible\n",
    "            infeasible_episodes+=1\n",
    "            \n",
    "        retweets += len(E[s])-1\n",
    "        total_feasible_edges = list(set(total_feasible_edges))\n",
    "        \n",
    "    return infeasible_episodes\n",
    "        \n",
    "#     print('Total feasbile edges:', len(total_feasible_edges), 'Number of retweets', retweets)\n",
    "#     print('Total infeasible edges:', total_inf)"
   ]
  },
  {
   "cell_type": "code",
   "execution_count": 21,
   "metadata": {},
   "outputs": [],
   "source": [
    "def longest_path(E, U, Q, k, graph_type):\n",
    "    max_l = 0\n",
    "    max_path = 0\n",
    "    \n",
    "    if graph_type=='ours' or graph_type=='newman':    \n",
    "        for s in E:\n",
    "            G = nx.DiGraph()\n",
    "            G.add_nodes_from(U)\n",
    "            for j in E[s][1:]:\n",
    "                    indx = E[s].index(j)\n",
    "                    u_before = E[s][:indx]\n",
    "                    for i in u_before: \n",
    "                            if j in Q[i] and Q[i][j] > 0.5:\n",
    "                                G.add_edge(i,j)\n",
    "\n",
    "            if len(nx.dag_longest_path(G))>max_l: \n",
    "                max_l = len(nx.dag_longest_path(G))\n",
    "                max_path = nx.dag_longest_path(G)\n",
    "                \n",
    "    if graph_type=='star':\n",
    "        for s in E:\n",
    "            G = nx.DiGraph()\n",
    "            G.add_nodes_from(U)\n",
    "            for j in E[s][1:]:\n",
    "                G.add_edge(E[s][0],j)\n",
    "\n",
    "            if len(nx.dag_longest_path(G))>max_l: \n",
    "                max_l = len(nx.dag_longest_path(G))\n",
    "                max_path = nx.dag_longest_path(G)\n",
    "                \n",
    "    if graph_type=='saito':    \n",
    "        for s in E:\n",
    "            G = nx.DiGraph()\n",
    "            G.add_nodes_from(U)\n",
    "            for j in E[s][1:]:\n",
    "                    indx = E[s].index(j)\n",
    "                    u_before = E[s][:indx]\n",
    "                    for i in u_before: \n",
    "                            if j in k[i] and k[i][j] > 0.5:\n",
    "                                G.add_edge(i,j)\n",
    "\n",
    "            if len(nx.dag_longest_path(G))>max_l: \n",
    "                max_l = len(nx.dag_longest_path(G))\n",
    "                max_path = nx.dag_longest_path(G)\n",
    "                \n",
    "    return max_l, max_path   \n"
   ]
  },
  {
   "cell_type": "code",
   "execution_count": 22,
   "metadata": {},
   "outputs": [],
   "source": [
    "def plot_tweetgraph(s, E, S, Q, k, pos, graph_type):\n",
    "        \n",
    "        G = nx.DiGraph()\n",
    "        \n",
    "        if graph_type=='ours' or graph_type=='newman':\n",
    "            t = 0\n",
    "            for j in E[s][1:]:\n",
    "                G.add_node(j)\n",
    "                indx = E[s].index(j)\n",
    "                u_before = E[s][:indx]\n",
    "                for i in u_before: \n",
    "                        G.add_node(i)\n",
    "                        if j in Q[i] and Q[i][j] > 0.5:\n",
    "                            G.add_edge(i,j, label=f'{t}')\n",
    "                            t+=1\n",
    "                            \n",
    "        elif graph_type=='star':\n",
    "            \n",
    "            G.add_node(E[s][0])\n",
    "            for j in E[s][1:]:\n",
    "                    G.add_edge(E[s][0],j)\n",
    "                    G.add_node(j)\n",
    "                    \n",
    "        elif graph_type=='saito':\n",
    "            t = 0\n",
    "            for j in E[s][1:]:\n",
    "                G.add_node(j)\n",
    "                indx = E[s].index(j)\n",
    "                u_before = E[s][:indx]\n",
    "                for i in u_before: \n",
    "                        G.add_node(i)\n",
    "                        if j in k[i] and k[i][j] > 0.5:\n",
    "                            G.add_edge(i,j, label=f'{t}')\n",
    "                            t+=1\n",
    "                            \n",
    "        elif graph_type=='serpent':\n",
    "            for time in D[s]:\n",
    "                ind = list(D[tweet].keys()).index(time)\n",
    "                if ind+1==len(D[tweet]): break\n",
    "                next_time = list(D[tweet].keys())[ind+1]\n",
    "                for u1 in D[tweet][time]:\n",
    "                    for u2 in D[tweet][next_time]:\n",
    "                        G.add_edge(u1,u2)\n",
    "\n",
    "        # print('- Edges:', G.edges)\n",
    "        color_map = []\n",
    "        cmap = plt.get_cmap('Greens')\n",
    "\n",
    "        for node in G:\n",
    "            if node == S[tweet]:\n",
    "                color_map.append('green')\n",
    "            else:\n",
    "                color_map.append('yellow')\n",
    "        \n",
    "        pos = nx.spring_layout(G)        \n",
    "        nx.draw_networkx_nodes(G, pos, node_color = color_map, cmap=plt.get_cmap('jet'), node_size = 300)\n",
    "        nx.draw_networkx_edges(G, pos, edge_color='r', arrows=True)\n",
    "        nx.draw_networkx_labels(G, pos, font_size=8)\n",
    "        if graph_type=='ours' or graph_type=='saito':\n",
    "            nx.draw_networkx_edge_labels(G, pos, font_size=8)\n",
    "        plt.show()\n",
    "    "
   ]
  },
  {
   "cell_type": "markdown",
   "metadata": {},
   "source": [
    "# Statistics\n",
    "\n",
    "## 1. number of infeasible episodes"
   ]
  },
  {
   "cell_type": "code",
   "execution_count": 23,
   "metadata": {},
   "outputs": [
    {
     "name": "stdout",
     "output_type": "stream",
     "text": [
      "-Total number of episodes: 111\n",
      "-Total infeasible episodes in our graph: 0\n",
      "-Total infeasible episodes in Saitos graph: 42\n",
      "-Total infeasible episodes in Newmans graph: 111\n"
     ]
    }
   ],
   "source": [
    "print('-Total number of episodes:', len(E))\n",
    "inf_ep = f_check(E, Q)\n",
    "print('-Total infeasible episodes in our graph:', inf_ep)\n",
    "inf_ep = f_check(E, k)\n",
    "print('-Total infeasible episodes in Saitos graph:', inf_ep)\n",
    "inf_ep = f_check(E, Q_newman)\n",
    "print('-Total infeasible episodes in Newmans graph:', inf_ep)\n",
    "\n",
    "df['']"
   ]
  },
  {
   "cell_type": "code",
   "execution_count": 53,
   "metadata": {},
   "outputs": [],
   "source": [
    "data = dict()\n",
    "data['Graph Type'] = ['Ours','Saito','Star','Serpent', 'Newman']\n",
    "\n",
    "# df = pd.DataFrame(data, columns= ['Graph Type', 'Infeasible Episodes', 'Number of Edges'])\n",
    "# df.to_csv (r'C:\\Users\\Ron\\Desktop\\export_dataframe.csv', index = False, header=True)"
   ]
  },
  {
   "cell_type": "markdown",
   "metadata": {},
   "source": [
    "## 2. Expected number of edges"
   ]
  },
  {
   "cell_type": "code",
   "execution_count": 31,
   "metadata": {},
   "outputs": [],
   "source": [
    "#Create graphs\n",
    "G_star = create_star_graph(U,E)\n",
    "G_ours = create_our_graph(U,Q)\n",
    "G_saito = create_saito_graph(U,k)\n",
    "G_newman = create_newman_graph(U,Q_newman)\n",
    "G_serpent = create_serpent_graph(U,D)"
   ]
  },
  {
   "cell_type": "code",
   "execution_count": 55,
   "metadata": {},
   "outputs": [],
   "source": [
    "edges_ours = len(G_ours.edges())\n",
    "edges_saito = len(G_saito.edges())\n",
    "edges_star = len(G_star.edges())\n",
    "edges_serpent = len(G_serpent.edges())\n",
    "edges_newman = len(G_newman.edges())\n",
    "\n",
    "data['Number of edges'] = [edges_ours, edges_saito, edges_star, edges_serpent, edges_newman]"
   ]
  },
  {
   "cell_type": "code",
   "execution_count": 33,
   "metadata": {},
   "outputs": [],
   "source": [
    "# #OURS\n",
    "\n",
    "# exp_edges = sum(Q[i][j] for i in Q for j in Q[i])\n",
    "# print('- Expected number of edges in our graph:', exp_edges, 'out of', len(U)*(len(U)-1), 'possible ones')\n",
    "\n",
    "# #SAITO\n",
    "\n",
    "# probs = np.histogram(flatten(k))[1]\n",
    "# probs = probs[1:]\n",
    "# nbs = np.histogram(flatten(k))[0]\n",
    "# lena = len(probs)\n",
    "# exp_edges = sum(probs[i]*nbs[i] for i in range(0,lena))\n",
    "# print('- Expected number of edges in Saitos graph:', exp_edges, 'out of', len(U)*(len(U)-1), 'possible ones')\n",
    "\n",
    "# #NEWMAN\n",
    "\n",
    "# exp_edges = sum(Q_newman[i][j] for i in Q_newman for j in Q_newman[i])\n",
    "# print('- Expected number of edges in Newmans graph:', exp_edges, 'out of', len(U)*(len(U)-1), 'possible ones')"
   ]
  },
  {
   "cell_type": "code",
   "execution_count": 34,
   "metadata": {},
   "outputs": [],
   "source": [
    "# # plot k\n",
    "# fig, ax = plt.subplots()\n",
    "# ax.hist(flatten(k), facecolor='yellow', edgecolor='red')\n",
    "# # ax.set_yscale('log')\n",
    "# plt.xlabel(\"k_ij distribution\")\n",
    "# plt.ylabel(\"Number of edges\")\n",
    "# plt.show()\n",
    "# plt.close()"
   ]
  },
  {
   "cell_type": "code",
   "execution_count": 35,
   "metadata": {},
   "outputs": [],
   "source": [
    "# degree_sequence = list(G_ours.out_degree())\n",
    "\n",
    "# # plot k\n",
    "# fig, ax = plt.subplots()\n",
    "# ax.hist(np.array(degree_sequence)[:,1], facecolor='yellow', edgecolor='red')\n",
    "# # ax.set_yscale('log')\n",
    "# plt.xlabel(\"k_ij distribution\")\n",
    "# plt.ylabel(\"Number of edges\")\n",
    "# plt.show()\n",
    "# plt.close()\n",
    "# plt.close()"
   ]
  },
  {
   "cell_type": "markdown",
   "metadata": {},
   "source": [
    "## 3. Average out degree"
   ]
  },
  {
   "cell_type": "code",
   "execution_count": 57,
   "metadata": {},
   "outputs": [],
   "source": [
    "av_ours = sum(d[1] for d in G_ours.out_degree())/float(len(G_ours))\n",
    "av_saito = sum(d[1] for d in G_saito.out_degree())/float(len(G_saito))\n",
    "av_star = sum(d[1] for d in G_star.out_degree())/float(len(G_star))\n",
    "av_serpent = sum(d[1] for d in G_serpent.out_degree())/float(len(G_serpent))\n",
    "av_newman = sum(d[1] for d in G_newman.out_degree())/float(len(G_newman))\n",
    "\n",
    "data['Average out degree'] = [av_ours, av_saito, av_star, av_serpent, av_newman]"
   ]
  },
  {
   "cell_type": "code",
   "execution_count": 28,
   "metadata": {},
   "outputs": [
    {
     "name": "stdout",
     "output_type": "stream",
     "text": [
      "Maximum degree of Our graph: 9\n",
      "Maximum degree of Saito graph: 25\n",
      "Maximum degree of Star graph : 71\n",
      "Maximum degree of Serpent graph: 25\n",
      "Maximum degree of Newman's graph: 9\n"
     ]
    }
   ],
   "source": [
    "degree_sequence = list(G_ours.out_degree())\n",
    "max_degree_our = max(np.array(degree_sequence)[:,1])\n",
    "print(\"Maximum degree of Our graph: \" + str(max_degree))\n",
    "\n",
    "degree_sequence = list(G_saito.out_degree())\n",
    "max_degree_saito = max(np.array(degree_sequence)[:,1])\n",
    "print(\"Maximum degree of Saito graph: \" + str(max_degree))\n",
    "\n",
    "\n",
    "degree_sequence = list(G_star.out_degree())\n",
    "max_degree_saito = max(np.array(degree_sequence)[:,1])\n",
    "print(\"Maximum degree of Star graph : \" + str(max_degree))\n",
    "\n",
    "degree_sequence = list(G_serpent.out_degree())\n",
    "max_degree_serpent = max(np.array(degree_sequence)[:,1])\n",
    "print(\"Maximum degree of Serpent graph: \" + str(max_degree))\n",
    "\n",
    "\n",
    "degree_sequence = list(G_newman.out_degree())\n",
    "max_degree_newmans = max(np.array(degree_sequence)[:,1])\n",
    "print(\"Maximum degree of Newman's graph: \" + str(max_degree))\n"
   ]
  },
  {
   "cell_type": "code",
   "execution_count": 29,
   "metadata": {},
   "outputs": [
    {
     "name": "stdout",
     "output_type": "stream",
     "text": [
      "Min degree of Our graph: 9\n",
      "Min degree of Saito graph: 11\n",
      "Min degree of Star graph : 9\n",
      "Min degree of Serpent graph: 25\n",
      "Min degree of Newman's graph: 71\n"
     ]
    }
   ],
   "source": [
    "degree_sequence = list(G_ours.in_degree())\n",
    "max_degree = max(np.array(degree_sequence)[:,1])\n",
    "print(\"Min degree of Our graph: \" + str(max_degree))\n",
    "\n",
    "degree_sequence = list(G_saito.in_degree())\n",
    "max_degree = max(np.array(degree_sequence)[:,1])\n",
    "print(\"Min degree of Saito graph: \" + str(max_degree))\n",
    "\n",
    "degree_sequence = list(G_star.in_degree())\n",
    "max_degree = max(np.array(degree_sequence)[:,1])\n",
    "print(\"Min degree of Star graph : \" + str(max_degree))\n",
    "\n",
    "degree_sequence = list(G_serpent.in_degree())\n",
    "max_degree = max(np.array(degree_sequence)[:,1])\n",
    "print(\"Min degree of Serpent graph: \" + str(max_degree))\n",
    "\n",
    "degree_sequence = list(G_newman.in_degree())\n",
    "max_degree = max(np.array(degree_sequence)[:,1])\n",
    "print(\"Min degree of Newman's graph: \" + str(max_degree))\n"
   ]
  },
  {
   "cell_type": "code",
   "execution_count": 81,
   "metadata": {},
   "outputs": [],
   "source": [
    "def degree_histogram_directed(G, in_degree=False, out_degree=False):\n",
    "    \"\"\"Return a list of the frequency of each degree value.\n",
    "\n",
    "    Parameters\n",
    "    ----------\n",
    "    G : Networkx graph\n",
    "       A graph\n",
    "    in_degree : bool\n",
    "    out_degree : bool\n",
    "\n",
    "    Returns\n",
    "    -------\n",
    "    hist : list\n",
    "       A list of frequencies of degrees.\n",
    "       The degree values are the index in the list.\n",
    "\n",
    "    Notes\n",
    "    -----\n",
    "    Note: the bins are width one, hence len(list) can be large\n",
    "    (Order(number_of_edges))\n",
    "    \"\"\"\n",
    "    nodes = G.nodes()\n",
    "    if in_degree:\n",
    "        in_degree = dict(G.in_degree())\n",
    "        degseq=[in_degree.get(k,0) for k in nodes]\n",
    "    elif out_degree:\n",
    "        out_degree = dict(G.out_degree())\n",
    "        degseq=[out_degree.get(k,0) for k in nodes]\n",
    "    else:\n",
    "        degseq=[v for k, v in G.degree()]\n",
    "    dmax=max(degseq)+1\n",
    "    freq= [ 0 for d in range(dmax) ]\n",
    "    for d in degseq:\n",
    "        freq[d] += 1\n",
    "    return freq"
   ]
  },
  {
   "cell_type": "code",
   "execution_count": 232,
   "metadata": {},
   "outputs": [
    {
     "data": {
      "image/png": "[encoded data removed]",
      "text/plain": [
       "<Figure size 864x576 with 1 Axes>"
      ]
     },
     "metadata": {},
     "output_type": "display_data"
    }
   ],
   "source": [
    "in_degree_freq = degree_histogram_directed(G_ours, in_degree=True)\n",
    "out_degree_freq = degree_histogram_directed(G_ours, out_degree=True)\n",
    "in_degrees = range(len(in_degree_freq))\n",
    "out_degrees = range(len(out_degree_freq))\n",
    "plt.figure(figsize=(12, 8)) \n",
    "plt.plot(range(len(in_degree_freq)), in_degree_freq, 'go-', label='in-degree') \n",
    "plt.plot(range(len(out_degree_freq)), out_degree_freq, 'bo-', label='out-degree')\n",
    "plt.xlabel('Degree')\n",
    "plt.ylabel('Frequency')\n",
    "\n",
    "in_degree_freq = degree_histogram_directed(G_saito, in_degree=True)\n",
    "out_degree_freq = degree_histogram_directed(G_saito, out_degree=True)\n",
    "in_degrees = range(len(in_degree_freq))\n",
    "out_degrees = range(len(out_degree_freq))\n",
    "\n",
    "in_degree_freq = degree_histogram_directed(G_star, in_degree=True)\n",
    "out_degree_freq = degree_histogram_directed(G_star, out_degree=True)\n",
    "in_degrees = range(len(in_degree_freq))\n",
    "out_degrees = range(len(out_degree_freq))\n",
    "\n",
    "in_degree_freq = degree_histogram_directed(G_newman, in_degree=True)\n",
    "out_degree_freq = degree_histogram_directed(G_newman, out_degree=True)\n",
    "in_degrees = range(len(in_degree_freq))\n",
    "out_degrees = range(len(out_degree_freq))\n"
   ]
  },
  {
   "cell_type": "code",
   "execution_count": 257,
   "metadata": {},
   "outputs": [],
   "source": [
    "# def plot_degree_dist(G, graph_type):\n",
    "#     degrees = [G.degree(n) for n in G.nodes()]\n",
    "#     counts, bins, bars = plt.hist(degrees, density=True)\n",
    "#     print(counts, bins)\n",
    "#     print(sum(counts))\n",
    "#     exp_edges = sum(counts[i]*bins[i] for i in range(0,len(counts)))\n",
    "#     print('- Expected number of edges in Newmans graph:', exp_edges)\n",
    "#     plt.hist(degrees, density=True)\n",
    "#     plt.title('degree distribution plot (P(deg=k), k=0,1,…) for graph_type graph')\n",
    "#     plt.show()\n",
    "\n",
    "# plot_degree_dist(G_ours, 'Our')\n",
    "# plot_degree_dist(G_saito, 'Saito')\n",
    "# plot_degree_dist(G_star, 'Star')\n",
    "# plot_degree_dist(G_newman, 'Newman')\n",
    "# plot_degree_dist(G_serpent, 'Serpent')"
   ]
  },
  {
   "cell_type": "markdown",
   "metadata": {},
   "source": [
    "## 5. Graph diameter\n",
    "\n",
    "The maximum among all the distances between a vertex to all other vertices is considered as the diameter of the Graph G."
   ]
  },
  {
   "cell_type": "code",
   "execution_count": 37,
   "metadata": {
    "scrolled": true
   },
   "outputs": [
    {
     "name": "stdout",
     "output_type": "stream",
     "text": [
      "- Diameter for strongly connected components of Ours\n",
      "Strongly connected component with diameter: 1\n",
      "- Diameter for strongly connected components of Saito\n",
      "- Diameter for strongly connected components of Star\n",
      "Strongly connected component with diameter: 1\n",
      "- Diameter for strongly connected components of Serpent\n",
      "Strongly connected component with diameter: 4\n",
      "Strongly connected component with diameter: 44\n",
      "Strongly connected component with diameter: 4\n",
      "Strongly connected component with diameter: 1\n",
      "- Diameter for strongly connected components of Newman\n",
      "Strongly connected component with diameter: 1\n"
     ]
    }
   ],
   "source": [
    "def diameter_scc(G, graph_type):\n",
    "    print('- Diameter for strongly connected components of', graph_type)\n",
    "    for C in nx.strongly_connected_components(G):\n",
    "        C = G.subgraph(C)\n",
    "        if len(C)>1: # skip one nodes\n",
    "            print('Strongly connected component with diameter:', nx.diameter(C)) # maximum eccentricity\n",
    "\n",
    "diameter_scc(G_ours, 'Ours')\n",
    "diameter_scc(G_saito, 'Saito')\n",
    "diameter_scc(G_star, 'Star')\n",
    "diameter_scc(G_serpent, 'Serpent')\n",
    "diameter_scc(G_newman, 'Newman')"
   ]
  },
  {
   "cell_type": "markdown",
   "metadata": {},
   "source": [
    "## 6. Wedge metric"
   ]
  },
  {
   "cell_type": "code",
   "execution_count": 38,
   "metadata": {},
   "outputs": [
    {
     "name": "stdout",
     "output_type": "stream",
     "text": [
      "- Wedge metric for our graph: 0.423692636072572\n",
      "- Wedge metric for the star graph: 0.008169934640522876\n",
      "- Wedge metric for the Saito graph: 0.3199285075960679\n",
      "- Wedge metric for the Serpent graph: 0.31484671029968997\n",
      "- Wedge metric for the Newman graph: 0.009416877942774357\n"
     ]
    }
   ],
   "source": [
    "print('- Wedge metric for our graph:', wedge_metric(G_ours))\n",
    "print('- Wedge metric for the star graph:', wedge_metric(G_star))\n",
    "print('- Wedge metric for the Saito graph:', wedge_metric(G_saito))\n",
    "print('- Wedge metric for the Serpent graph:', wedge_metric(G_serpent))\n",
    "print('- Wedge metric for the Newman graph:', wedge_metric(G_newman))\n"
   ]
  },
  {
   "cell_type": "markdown",
   "metadata": {},
   "source": [
    "## 7. Cumulative degree distribution plots (P(deg>k), k=0,1,…)\n"
   ]
  },
  {
   "cell_type": "code",
   "execution_count": 262,
   "metadata": {},
   "outputs": [
    {
     "name": "stdout",
     "output_type": "stream",
     "text": [
      "Cumulative degree distribution plot (P(deg>k), k=0,1,…) for Our Graph\n"
     ]
    },
    {
     "data": {
      "image/png": "[encoded data removed]",
      "text/plain": [
       "<Figure size 432x288 with 1 Axes>"
      ]
     },
     "metadata": {},
     "output_type": "display_data"
    },
    {
     "name": "stdout",
     "output_type": "stream",
     "text": [
      "Cumulative degree distribution plot (P(deg>k), k=0,1,…) for Saito Graph\n"
     ]
    },
    {
     "data": {
      "image/png": "[encoded data removed]",
      "text/plain": [
       "<Figure size 432x288 with 1 Axes>"
      ]
     },
     "metadata": {},
     "output_type": "display_data"
    },
    {
     "name": "stdout",
     "output_type": "stream",
     "text": [
      "Cumulative degree distribution plot (P(deg>k), k=0,1,…) for Star Graph\n"
     ]
    },
    {
     "data": {
      "image/png": "[encoded data removed]",
      "text/plain": [
       "<Figure size 432x288 with 1 Axes>"
      ]
     },
     "metadata": {},
     "output_type": "display_data"
    },
    {
     "name": "stdout",
     "output_type": "stream",
     "text": [
      "Cumulative degree distribution plot (P(deg>k), k=0,1,…) for Newman Graph\n"
     ]
    },
    {
     "data": {
      "image/png": "[encoded data removed]",
      "text/plain": [
       "<Figure size 432x288 with 1 Axes>"
      ]
     },
     "metadata": {},
     "output_type": "display_data"
    },
    {
     "name": "stdout",
     "output_type": "stream",
     "text": [
      "Cumulative degree distribution plot (P(deg>k), k=0,1,…) for Serpent Graph\n"
     ]
    },
    {
     "data": {
      "image/png": "[encoded data removed]",
      "text/plain": [
       "<Figure size 432x288 with 1 Axes>"
      ]
     },
     "metadata": {},
     "output_type": "display_data"
    }
   ],
   "source": [
    "def plot_degree_dist(G, graph_type):\n",
    "    degrees = [G.out_degree(n) for n in G.nodes()]\n",
    "#     plt.xlim(0,250)\n",
    "    plt.hist(degrees, cumulative=-1, density=True)\n",
    "    print('Cumulative degree distribution plot (P(deg>k), k=0,1,…) for', graph_type, 'Graph')\n",
    "#     plt.title('Cumulative degree distribution plot (P(deg>k), k=0,1,…) for graph_type graph')\n",
    "    plt.show()\n",
    "\n",
    "plot_degree_dist(G_ours, 'Our')\n",
    "plot_degree_dist(G_saito, 'Saito')\n",
    "plot_degree_dist(G_star, 'Star')\n",
    "plot_degree_dist(G_newman, 'Newman')\n",
    "plot_degree_dist(G_serpent, 'Serpent')"
   ]
  },
  {
   "cell_type": "markdown",
   "metadata": {},
   "source": [
    "## 8. Mean length of shortest-path from i to j (for any i and j)\n"
   ]
  },
  {
   "cell_type": "code",
   "execution_count": 39,
   "metadata": {},
   "outputs": [
    {
     "name": "stdout",
     "output_type": "stream",
     "text": [
      "- Average shortest path for strongly connected components of Ours\n",
      "Strongly connected component with average shortest path: 1.0\n",
      "- Average shortest path for strongly connected components of Saito\n",
      "- Average shortest path for strongly connected components of Star\n",
      "Strongly connected component with average shortest path: 1.0\n",
      "- Average shortest path for strongly connected components of Serpent\n",
      "Strongly connected component with average shortest path: 2.5\n",
      "Strongly connected component with average shortest path: 15.191586538461538\n",
      "Strongly connected component with average shortest path: 2.5\n",
      "Strongly connected component with average shortest path: 1.0\n",
      "- Average shortest path for strongly connected components of Newman\n",
      "Strongly connected component with average shortest path: 1.0\n"
     ]
    },
    {
     "data": {
      "text/plain": [
       "'Done'"
      ]
     },
     "execution_count": 39,
     "metadata": {},
     "output_type": "execute_result"
    }
   ],
   "source": [
    "def avg_sh_path(G, graph_type):\n",
    "    print('- Average shortest path for strongly connected components of', graph_type)\n",
    "    for C in nx.strongly_connected_components(G):\n",
    "        C = G.subgraph(C)\n",
    "        if len(C)>1: # skip one nodes\n",
    "            print('Strongly connected component with average shortest path:', nx.average_shortest_path_length(C))\n",
    "    return('Done')\n",
    "\n",
    "avg_sh_path(G_ours, 'Ours')\n",
    "avg_sh_path(G_saito, 'Saito')\n",
    "avg_sh_path(G_star, 'Star')\n",
    "avg_sh_path(G_serpent, 'Serpent')\n",
    "avg_sh_path(G_newman, 'Newman')\n"
   ]
  },
  {
   "cell_type": "code",
   "execution_count": 239,
   "metadata": {},
   "outputs": [],
   "source": [
    "# G = nx.Graph([(1, 2), (3, 4)])\n",
    "# for C in (G.subgraph(c).copy() for c in nx.connected_components(G)):\n",
    "#     print(C.nodes())\n",
    "#     print(nx.average_shortest_path_length(C))"
   ]
  },
  {
   "cell_type": "markdown",
   "metadata": {},
   "source": [
    "## 9. Is there a clustering coefficient for directed graphs"
   ]
  },
  {
   "cell_type": "markdown",
   "metadata": {},
   "source": [
    "- Weakly connected components are those that are connected when you consider the undirected version of the graph (replace every directed edge with an undirected one). \n",
    "- Strongly connected components are those components where every pair of nodes is reachable from each other (has a path)."
   ]
  },
  {
   "cell_type": "code",
   "execution_count": 240,
   "metadata": {},
   "outputs": [
    {
     "name": "stdout",
     "output_type": "stream",
     "text": [
      "- Average shortest path for strongly connected components of Ours\n",
      "Strongly connected component, with average clustering coefficient: 0.0\n",
      "Strongly connected component, with average clustering coefficient: 0.0\n",
      "Strongly connected component, with average clustering coefficient: 0.0034724259028071315\n",
      "Strongly connected component, with average clustering coefficient: 0.5\n",
      "Strongly connected component, with average clustering coefficient: 0.0\n",
      "Strongly connected component, with average clustering coefficient: 0.0\n",
      "- Average shortest path for strongly connected components of Saito\n",
      "- Average shortest path for strongly connected components of Newman\n",
      "Strongly connected component, with average clustering coefficient: 0.0\n",
      "- Average shortest path for strongly connected components of Star\n",
      "Strongly connected component, with average clustering coefficient: 0.0\n",
      "Strongly connected component, with average clustering coefficient: 0.0\n",
      "Strongly connected component, with average clustering coefficient: 0.0\n",
      "Strongly connected component, with average clustering coefficient: 0.18828479899549044\n",
      "Strongly connected component, with average clustering coefficient: 0.0\n",
      "Strongly connected component, with average clustering coefficient: 0.0\n",
      "Strongly connected component, with average clustering coefficient: 0.6666666666666666\n",
      "Strongly connected component, with average clustering coefficient: 0.0\n",
      "Strongly connected component, with average clustering coefficient: 0.0\n",
      "Strongly connected component, with average clustering coefficient: 0.0\n",
      "Strongly connected component, with average clustering coefficient: 0.0\n",
      "Strongly connected component, with average clustering coefficient: 0.0\n",
      "- Average shortest path for strongly connected components of Serpent\n",
      "Strongly connected component, with average clustering coefficient: 0.0\n",
      "Strongly connected component, with average clustering coefficient: 0.0\n",
      "Strongly connected component, with average clustering coefficient: 0.006530220631757855\n",
      "Strongly connected component, with average clustering coefficient: 0.07611622986979792\n"
     ]
    },
    {
     "data": {
      "text/plain": [
       "'Done'"
      ]
     },
     "execution_count": 240,
     "metadata": {},
     "output_type": "execute_result"
    }
   ],
   "source": [
    "def avg_sh_path(G, graph_type):\n",
    "    print('- Average shortest path for strongly connected components of', graph_type)\n",
    "    for C in nx.strongly_connected_components(G):\n",
    "        C = G.subgraph(C)\n",
    "        if len(C)>1: # skip one nodes\n",
    "            print('Strongly connected component, with average clustering coefficient:', nx.average_clustering(C))\n",
    "    return('Done')\n",
    "\n",
    "avg_sh_path(G_ours, 'Ours')\n",
    "avg_sh_path(G_saito, 'Saito')\n",
    "avg_sh_path(G_star, 'Star')\n",
    "avg_sh_path(G_serpent, 'Serpent')\n",
    "avg_sh_path(G_newman, 'Newman')"
   ]
  },
  {
   "cell_type": "markdown",
   "metadata": {},
   "source": [
    "## Compare [a.] Our graph VS [b.] Saito. x-axis is the threshold sigma>t. And y-axis the percentage of nodes in our graph that have >t threshold over the Saito nodes with >t threshold (we should see for large t that the percentage is higher...)\n"
   ]
  },
  {
   "cell_type": "code",
   "execution_count": 241,
   "metadata": {},
   "outputs": [
    {
     "name": "stdout",
     "output_type": "stream",
     "text": [
      "0.0\n",
      "0.1\n",
      "0.2\n",
      "0.3\n",
      "0.4\n",
      "0.5\n",
      "0.6\n",
      "0.7\n",
      "0.8\n",
      "0.9\n",
      "1.0\n"
     ]
    }
   ],
   "source": [
    "our_plot = dict()\n",
    "for thr in range(0, 11):\n",
    "    thr = thr/10\n",
    "    print(thr)\n",
    "    total_edges = 0 \n",
    "    edges = 0 \n",
    "    for i in k:\n",
    "        for j in k[i]:\n",
    "            if k[i][j]==thr and s[i][j]>=thr: \n",
    "                edges+=1\n",
    "            total_edges+=1\n",
    "    our_plot[thr] = edges/total_edges\n",
    "    "
   ]
  },
  {
   "cell_type": "code",
   "execution_count": 242,
   "metadata": {},
   "outputs": [
    {
     "data": {
      "text/plain": [
       "{0.0: 0.0,\n",
       " 0.1: 0.003768646951059932,\n",
       " 0.2: 0.011148913896885632,\n",
       " 0.3: 0.0,\n",
       " 0.4: 0.0002093692750588851,\n",
       " 0.5: 0.027532059670243393,\n",
       " 0.6: 0.0,\n",
       " 0.7: 0.0,\n",
       " 0.8: 5.234231876472128e-05,\n",
       " 0.9: 0.0,\n",
       " 1.0: 0.055901596440722325}"
      ]
     },
     "execution_count": 242,
     "metadata": {},
     "output_type": "execute_result"
    }
   ],
   "source": [
    "our_plot"
   ]
  },
  {
   "cell_type": "code",
   "execution_count": 243,
   "metadata": {},
   "outputs": [
    {
     "data": {
      "text/plain": [
       "<BarContainer object of 11 artists>"
      ]
     },
     "execution_count": 243,
     "metadata": {},
     "output_type": "execute_result"
    },
    {
     "data": {
      "image/png": "[encoded data removed]",
      "text/plain": [
       "<Figure size 432x288 with 1 Axes>"
      ]
     },
     "metadata": {},
     "output_type": "display_data"
    }
   ],
   "source": [
    "labels, values = zip(*our_plot.items())\n",
    "plt.bar(labels, values)"
   ]
  },
  {
   "cell_type": "markdown",
   "metadata": {},
   "source": [
    "## Also, we will need a plot to show the role of trace size: plot the metrics 2., 3., 5., 6, 8, 9, as a function of the trace length - for T=1,000, 10,000, 50,000, 100,000, 200,000, 500,000, 1M, 1.5M etc…"
   ]
  },
  {
   "cell_type": "code",
   "execution_count": null,
   "metadata": {},
   "outputs": [],
   "source": []
  },
  {
   "cell_type": "code",
   "execution_count": 244,
   "metadata": {},
   "outputs": [],
   "source": [
    "# max(nx.weakly_connected_components(G_ours), key=len)"
   ]
  },
  {
   "cell_type": "code",
   "execution_count": 245,
   "metadata": {},
   "outputs": [],
   "source": [
    "# for C in nx.weakly_connected_components(G_ours):\n",
    "#     print(nx.shortest_path_length(C))"
   ]
  },
  {
   "cell_type": "code",
   "execution_count": 246,
   "metadata": {},
   "outputs": [],
   "source": [
    "# max_scc = max(nx.strongly_connected_components(G_ours), key=len)\n",
    "# print('Length of maximum strongly connected component in our graph', len(max_scc))\n",
    "# max_scc = max(nx.strongly_connected_components(G_saito), key=len)\n",
    "# print('Length of maximum strongly connected component in Saitos graph', len(max_scc))\n",
    "# max_scc = max(nx.strongly_connected_components(G_star), key=len)\n",
    "# print('Length of maximum strongly connected component in Star graph', len(max_scc))\n",
    "# max_scc = max(nx.strongly_connected_components(G_serpent), key=len)\n",
    "# print('Length of maximum strongly connected component in Serpent graph', len(max_scc))"
   ]
  },
  {
   "cell_type": "code",
   "execution_count": 230,
   "metadata": {},
   "outputs": [],
   "source": [
    "# print('Max strongly connected components', max(nx.strongly_connected_components(G_ours), key=len))\n",
    "# print('Max strongly connected components', max(nx.strongly_connected_components(G_star), key=len))\n",
    "# print('Max strongly connected components', max(nx.strongly_connected_components(G_saito), key=len))"
   ]
  },
  {
   "cell_type": "code",
   "execution_count": 231,
   "metadata": {
    "scrolled": true
   },
   "outputs": [],
   "source": [
    "# print('Strongly connected components in our graph')\n",
    "# [print('our') for c in sorted(nx.strongly_connected_components(G_ours), key=len, reverse=True) if len(c)>3108]\n",
    "\n",
    "# print('Strongly connected components in Star graph')\n",
    "# [print('star') for c in sorted(nx.strongly_connected_components(G_star), key=len, reverse=True) if len(c)>6]\n",
    "\n",
    "# print('Strongly connected components in Saito graph')\n",
    "# [print('saito') for c in sorted(nx.strongly_connected_components(G_saito), key=len, reverse=True) if len(c)>9]"
   ]
  },
  {
   "cell_type": "code",
   "execution_count": 1,
   "metadata": {},
   "outputs": [
    {
     "ename": "NameError",
     "evalue": "name 'E' is not defined",
     "output_type": "error",
     "traceback": [
      "\u001b[0;31m---------------------------------------------------------------------------\u001b[0m",
      "\u001b[0;31mNameError\u001b[0m                                 Traceback (most recent call last)",
      "\u001b[0;32m<ipython-input-1-f139c0272113>\u001b[0m in \u001b[0;36m<module>\u001b[0;34m()\u001b[0m\n\u001b[1;32m      1\u001b[0m \u001b[0mtweet\u001b[0m \u001b[0;34m=\u001b[0m \u001b[0;36m956219412377407488\u001b[0m\u001b[0;34m\u001b[0m\u001b[0;34m\u001b[0m\u001b[0m\n\u001b[0;32m----> 2\u001b[0;31m \u001b[0mprint\u001b[0m\u001b[0;34m(\u001b[0m\u001b[0;34m'- Episode:'\u001b[0m\u001b[0;34m,\u001b[0m \u001b[0mE\u001b[0m\u001b[0;34m[\u001b[0m\u001b[0mtweet\u001b[0m\u001b[0;34m]\u001b[0m\u001b[0;34m)\u001b[0m\u001b[0;34m\u001b[0m\u001b[0;34m\u001b[0m\u001b[0m\n\u001b[0m\u001b[1;32m      3\u001b[0m \u001b[0;34m\u001b[0m\u001b[0m\n\u001b[1;32m      4\u001b[0m \u001b[0;31m# pos = nx.spring_layout(G_ours)\u001b[0m\u001b[0;34m\u001b[0m\u001b[0;34m\u001b[0m\u001b[0;34m\u001b[0m\u001b[0m\n\u001b[1;32m      5\u001b[0m \u001b[0mpos\u001b[0m \u001b[0;34m=\u001b[0m \u001b[0;36m0\u001b[0m\u001b[0;34m\u001b[0m\u001b[0;34m\u001b[0m\u001b[0m\n",
      "\u001b[0;31mNameError\u001b[0m: name 'E' is not defined"
     ]
    }
   ],
   "source": [
    "tweet = 956219412377407488\n",
    "print('- Episode:', E[tweet])\n",
    "\n",
    "# pos = nx.spring_layout(G_ours)\n",
    "pos = 0 \n",
    "plot1 = plt.figure(1)\n",
    "plot_tweetgraph(tweet, E, S, Q, k, pos, 'ours')\n",
    "plot2 = plt.figure(2)\n",
    "plot_tweetgraph(tweet, E, S, Q, k, pos, 'star')\n",
    "plot2 = plt.figure(3)\n",
    "plot_tweetgraph(tweet, E, S, Q, k, pos, 'saito')\n",
    "plt.show()\n",
    "plot_tweetgraph(tweet, E, S, Q_newman, k, pos, 'newman')\n",
    "plt.show()\n",
    "plot_tweetgraph(tweet, E, S, Q, k, pos, 'serpent')\n",
    "plt.show()"
   ]
  },
  {
   "cell_type": "code",
   "execution_count": null,
   "metadata": {},
   "outputs": [],
   "source": [
    "df[]"
   ]
  },
  {
   "cell_type": "code",
   "execution_count": 46,
   "metadata": {},
   "outputs": [],
   "source": [
    "df = pd.DataFrame({'name': ['Raphael', 'Donatello'],\n",
    "                   'mask': ['red', 'purple'],\n",
    "                   'weapon': ['sai', 'bo staff']})\n",
    "df.to_csv (r'./export_dataframe.csv', index = False, header=True)\n"
   ]
  },
  {
   "cell_type": "code",
   "execution_count": 256,
   "metadata": {},
   "outputs": [],
   "source": [
    "# # Get the list of the degrees\n",
    "# degree_sequence = list(G_ours.out_degree())\n",
    "\n",
    "# nb_nodes = len(G_ours.nodes())\n",
    "# nb_arr = len(G_ours.edges())\n",
    "\n",
    "# avg_degree = np.mean(np.array(degree_sequence)[:,1])\n",
    "# # med_degree = np.median(np.array(degree_sequence)[:,1])\n",
    "\n",
    "# max_degree = max(np.array(degree_sequence)[:,1])\n",
    "# min_degree = np.min(np.array(degree_sequence)[:,1])\n",
    "\n",
    "# # esp_degree = (n-1)*p\n",
    "\n",
    "# print(\"Number of nodes : \" + str(nb_nodes))\n",
    "# print(\"Number of edges : \" + str(nb_arr))\n",
    "\n",
    "# print(\"Maximum degree : \" + str(max_degree))\n",
    "# print(\"Minimum degree : \" + str(min_degree))\n",
    "\n",
    "# print(\"Average degree : \" + str(avg_degree))\n",
    "# # print(\"Expected degree : \" + str(esp_degree))\n",
    "# # print(\"Median degree : \" + str(med_degree))"
   ]
  }
 ],
 "metadata": {
  "kernelspec": {
   "display_name": "Python 3",
   "language": "python",
   "name": "python3"
  },
  "language_info": {
   "codemirror_mode": {
    "name": "ipython",
    "version": 3
   },
   "file_extension": ".py",
   "mimetype": "text/x-python",
   "name": "python",
   "nbconvert_exporter": "python",
   "pygments_lexer": "ipython3",
   "version": "3.8.10"
  }
 },
 "nbformat": 4,
 "nbformat_minor": 2
}
